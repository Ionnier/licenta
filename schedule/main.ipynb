{
 "cells": [
  {
   "cell_type": "code",
   "execution_count": null,
   "metadata": {},
   "outputs": [
    {
     "ename": "",
     "evalue": "",
     "output_type": "error",
     "traceback": [
      "\u001b[1;31mFailed to start the Kernel. \n",
      "\u001b[1;31mJupyter server crashed. Unable to connect. \n",
      "\u001b[1;31mError code from Jupyter: 127\n",
      "\u001b[1;31mpyenv: jupyter-notebook: command not found\n",
      "\u001b[1;31m\n",
      "\u001b[1;31m\n",
      "\u001b[1;31mThe `jupyter-notebook' command exists in these Python versions:\n",
      "\u001b[1;31m\n",
      "\u001b[1;31m  3.10.9\n",
      "\u001b[1;31m\n",
      "\u001b[1;31m\n",
      "\u001b[1;31m\n",
      "\u001b[1;31mNote: See 'pyenv help global' for tips on allowing both\n",
      "\u001b[1;31m      python2 and python3 to be found. \n",
      "\u001b[1;31mView Jupyter <a href='command:jupyter.viewOutput'>log</a> for further details."
     ]
    }
   ],
   "source": [
    "import pandas\n",
    "from sklearn import tree\n",
    "from sklearn.tree import DecisionTreeClassifier"
   ]
  },
  {
   "cell_type": "code",
   "execution_count": null,
   "metadata": {},
   "outputs": [],
   "source": []
  },
  {
   "cell_type": "code",
   "execution_count": 2,
   "metadata": {},
   "outputs": [],
   "source": [
    "df = pandas.read_csv(\"predict_estimate.csv\", encoding=\"utf-8-sig\",delimiter=',')\n",
    "df.columns = df.columns.str.strip()\n",
    "\n",
    "task_name = 'task_name'\n",
    "doy = 'day_of_year'\n",
    "dow = 'day_of_week'\n",
    "tod = \"time_of_day\"\n",
    "total = 'total_minutes_estimated'\n",
    "rem = 'remaining_minutes_estimated'\n",
    "est = 'minutes_estimated'\n",
    "percent = \"percentage_remaining\"\n",
    "\n",
    "df[percent] = df[rem]/df[total]\n",
    "\n",
    "features = [task_name, doy, dow, tod, total, rem, percent]\n",
    "predict = [est]"
   ]
  },
  {
   "cell_type": "code",
   "execution_count": 3,
   "metadata": {},
   "outputs": [],
   "source": [
    "unique_tasks = list(set(df[task_name].values))\n",
    "\n",
    "df[task_name] = df[task_name].transform(lambda x:  unique_tasks.index(x))\n",
    "\n"
   ]
  },
  {
   "cell_type": "code",
   "execution_count": 4,
   "metadata": {},
   "outputs": [
    {
     "name": "stderr",
     "output_type": "stream",
     "text": [
      "/Users/dbahrim/.pyenv/versions/3.10.9/lib/python3.10/site-packages/sklearn/base.py:420: UserWarning: X does not have valid feature names, but DecisionTreeClassifier was fitted with feature names\n",
      "  warnings.warn(\n"
     ]
    },
    {
     "data": {
      "text/plain": [
       "array([30])"
      ]
     },
     "execution_count": 4,
     "metadata": {},
     "output_type": "execute_result"
    }
   ],
   "source": [
    "X = df[features]\n",
    "y = df[est]\n",
    "\n",
    "dtree = DecisionTreeClassifier()\n",
    "dtree = dtree.fit(X, y)\n",
    "\n",
    "dtree.predict([[0, 12, 4, 8, 999999, 999999, 1]])\n"
   ]
  }
 ],
 "metadata": {
  "kernelspec": {
   "display_name": "Python 3",
   "language": "python",
   "name": "python3"
  },
  "language_info": {
   "codemirror_mode": {
    "name": "ipython",
    "version": 3
   },
   "file_extension": ".py",
   "mimetype": "text/x-python",
   "name": "python",
   "nbconvert_exporter": "python",
   "pygments_lexer": "ipython3",
   "version": "3.9.6"
  },
  "orig_nbformat": 4,
  "vscode": {
   "interpreter": {
    "hash": "31f2aee4e71d21fbe5cf8b01ff0e069b9275f58929596ceb00d14d90e3e16cd6"
   }
  }
 },
 "nbformat": 4,
 "nbformat_minor": 2
}
