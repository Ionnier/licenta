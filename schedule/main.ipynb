{
 "cells": [
  {
   "cell_type": "code",
   "execution_count": 1,
   "metadata": {},
   "outputs": [],
   "source": [
    "import pandas\n",
    "from sklearn import tree\n",
    "from sklearn.tree import DecisionTreeClassifier\n",
    "import matplotlib.pyplot as plt"
   ]
  },
  {
   "cell_type": "code",
   "execution_count": 2,
   "metadata": {},
   "outputs": [],
   "source": [
    "df = pandas.read_csv(\"predict_estimate.csv\", encoding=\"utf-8-sig\",delimiter=',')\n",
    "df.columns = df.columns.str.strip()\n",
    "\n",
    "task_name = 'task_name'\n",
    "doy = 'day_of_year'\n",
    "dow = 'day_of_week'\n",
    "tod = \"time_of_day\"\n",
    "total = 'total_minutes_estimated'\n",
    "rem = 'remaining_minutes_estimated'\n",
    "est = 'minutes_estimated'\n",
    "percent = \"percentage_remaining\"\n",
    "\n",
    "df[percent] = df[rem]/df[total]\n",
    "\n",
    "features = [task_name, doy, dow, tod, total, rem, percent]\n",
    "predict = [est]"
   ]
  },
  {
   "cell_type": "code",
   "execution_count": 3,
   "metadata": {},
   "outputs": [],
   "source": [
    "unique_tasks = list(set(df[task_name].values))\n",
    "\n",
    "df[task_name] = df[task_name].transform(lambda x:  unique_tasks.index(x))\n",
    "\n"
   ]
  },
  {
   "cell_type": "code",
   "execution_count": 4,
   "metadata": {},
   "outputs": [
    {
     "name": "stderr",
     "output_type": "stream",
     "text": [
      "/Users/dbahrim/.pyenv/versions/3.10.9/lib/python3.10/site-packages/sklearn/base.py:420: UserWarning: X does not have valid feature names, but DecisionTreeClassifier was fitted with feature names\n",
      "  warnings.warn(\n"
     ]
    },
    {
     "data": {
      "text/plain": [
       "array([30])"
      ]
     },
     "execution_count": 4,
     "metadata": {},
     "output_type": "execute_result"
    }
   ],
   "source": [
    "X = df[features]\n",
    "y = df[est]\n",
    "\n",
    "dtree = DecisionTreeClassifier()\n",
    "dtree = dtree.fit(X, y)\n",
    "\n",
    "dtree.predict([[0, 12, 4, 8, 999999, 999999, 1]])\n"
   ]
  }
 ],
 "metadata": {
  "kernelspec": {
   "display_name": "Python 3",
   "language": "python",
   "name": "python3"
  },
  "language_info": {
   "codemirror_mode": {
    "name": "ipython",
    "version": 3
   },
   "file_extension": ".py",
   "mimetype": "text/x-python",
   "name": "python",
   "nbconvert_exporter": "python",
   "pygments_lexer": "ipython3",
   "version": "3.10.9 (main, Jan 19 2023, 09:41:08) [Clang 14.0.0 (clang-1400.0.29.202)]"
  },
  "orig_nbformat": 4,
  "vscode": {
   "interpreter": {
    "hash": "90d651f0075fb08e0771d35d9fb2fb1c4746ffaccaf17bfb2f2b007b9c1e771d"
   }
  }
 },
 "nbformat": 4,
 "nbformat_minor": 2
}
